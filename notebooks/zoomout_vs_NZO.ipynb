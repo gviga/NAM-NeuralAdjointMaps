{
 "cells": [
  {
   "cell_type": "markdown",
   "metadata": {},
   "source": [
    "# This is an example notebook on how to use NAM for shape matching\n",
    "In this notebook we consider different refinement with the spectral embeddings\n"
   ]
  },
  {
   "cell_type": "code",
   "execution_count": null,
   "metadata": {},
   "outputs": [],
   "source": [
    "from geomfum.shape.mesh import TriangleMesh\n",
    "from geomfum.refine import ZoomOut\n",
    "\n",
    "import torch\n",
    "import numpy as np\n",
    "\n",
    "import sys\n",
    "import os\n",
    "\n",
    "# Add the parent directory to sys.path\n",
    "sys.path.append(os.path.abspath(os.path.join(os.getcwd(), \"..\")))\n",
    "\n",
    "from model.neural_adjoint_map import NeuralAdjointMap\n",
    "from sklearn.neighbors import NearestNeighbors\n",
    "\n",
    "from model.neural_zoomout import NeuralZoomOut\n"
   ]
  },
  {
   "cell_type": "code",
   "execution_count": null,
   "metadata": {},
   "outputs": [],
   "source": [
    "import os\n",
    "from urllib.request import urlretrieve\n",
    "\n",
    "faust_url = \"https://raw.githubusercontent.com/JM-data/PyFuncMap/4bde4484c3e93bff925a6a82da29fa79d6862f4b/FAUST_shapes_off/\"\n",
    "shape_files = [\"tr_reg_080.off\", \"tr_reg_093.off\"]\n",
    "for fname in shape_files:\n",
    "    url = faust_url + fname\n",
    "    out_path = os.path.join(\"../data/\", fname)\n",
    "    urlretrieve(url, out_path)\n"
   ]
  },
  {
   "cell_type": "code",
   "execution_count": null,
   "metadata": {},
   "outputs": [],
   "source": [
    "mesh1 = TriangleMesh.from_file(\"../data/tr_reg_080.off\")\n",
    "mesh2 = TriangleMesh.from_file(\"../data/tr_reg_093.off\")\n",
    "\n",
    "eigvals1, eigvecs1 = mesh1.laplacian.find_spectrum(spectrum_size=200)\n",
    "eigvals2, eigvecs2 = mesh2.laplacian.find_spectrum(spectrum_size=200)"
   ]
  },
  {
   "cell_type": "code",
   "execution_count": null,
   "metadata": {},
   "outputs": [],
   "source": [
    "p2p_gt = np.arange(mesh1.n_vertices)"
   ]
  },
  {
   "cell_type": "markdown",
   "metadata": {},
   "source": [
    "# Initial Map"
   ]
  },
  {
   "cell_type": "code",
   "execution_count": null,
   "metadata": {},
   "outputs": [],
   "source": [
    "k = 20\n",
    "C21 = np.linalg.pinv(eigvecs1[:, :k]) @ eigvecs2[p2p_gt, :20]\n",
    "\n",
    "A12 = C21.T\n",
    "# Fit KNN on eigvecs2\n",
    "knn = NearestNeighbors(n_neighbors=1, algorithm=\"auto\").fit(eigvecs2[:, :k] @ A12)\n",
    "distances, indices = knn.kneighbors(eigvecs1[:, :20])\n",
    "\n",
    "p2p_ini = indices.flatten()\n",
    "\n",
    "print(\"Conversion Error:\", np.mean((mesh2.vertices[p2p_ini] - mesh2.vertices) ** 2))"
   ]
  },
  {
   "cell_type": "markdown",
   "metadata": {},
   "source": [
    "# ZoomOut"
   ]
  },
  {
   "cell_type": "code",
   "execution_count": null,
   "metadata": {},
   "outputs": [],
   "source": [
    "zoomout = ZoomOut(nit=18, step=10)\n",
    "ref_fmap = zoomout(C21, mesh1.basis, mesh2.basis)"
   ]
  },
  {
   "cell_type": "code",
   "execution_count": null,
   "metadata": {},
   "outputs": [],
   "source": [
    "# Fit KNN on eigvecs2\n",
    "knn = NearestNeighbors(n_neighbors=1, algorithm=\"auto\").fit(eigvecs2 @ ref_fmap)\n",
    "distances, indices = knn.kneighbors(eigvecs1)\n",
    "\n",
    "p2p = indices.flatten()\n",
    "\n",
    "print(\"Conversion Error:\", np.mean((mesh2.vertices[p2p] - mesh2.vertices) ** 2))"
   ]
  },
  {
   "cell_type": "markdown",
   "metadata": {},
   "source": [
    "# NeuralZoomOut"
   ]
  },
  {
   "cell_type": "code",
   "execution_count": null,
   "metadata": {},
   "outputs": [],
   "source": [
    "nam = NeuralAdjointMap(\n",
    "    torch.tensor(eigvecs1[:, :20]).to(torch.float32),\n",
    "    torch.tensor(eigvecs2[:, :20]).to(torch.float32),\n",
    ")\n",
    "\n",
    "nam.optimize_from_p2p(p2p_ini)\n"
   ]
  },
  {
   "cell_type": "code",
   "execution_count": null,
   "metadata": {},
   "outputs": [],
   "source": [
    "nzo = NeuralZoomOut(nit=2, step=20)\n",
    "nam = nzo(\n",
    "    nam,\n",
    "    torch.tensor(eigvecs1).to(torch.float32),\n",
    "    torch.tensor(eigvecs2).to(torch.float32),\n",
    ")\n",
    "\n",
    "emb2_nn = nam(\n",
    "    torch.tensor(eigvecs2[:, :60]).to(torch.float32),\n",
    ")\n"
   ]
  },
  {
   "cell_type": "code",
   "execution_count": null,
   "metadata": {},
   "outputs": [],
   "source": [
    "knn = NearestNeighbors(n_neighbors=1, algorithm=\"auto\").fit(\n",
    "    emb2_nn.detach().cpu().numpy()\n",
    ")\n",
    "distances, indices = knn.kneighbors(eigvecs1[:, :40])\n",
    "\n",
    "p2p = indices.flatten()"
   ]
  },
  {
   "cell_type": "code",
   "execution_count": null,
   "metadata": {},
   "outputs": [],
   "source": [
    "print(\"Conversion Error:\", np.mean((mesh2.vertices[p2p] - mesh2.vertices) ** 2))"
   ]
  }
 ],
 "metadata": {
  "kernelspec": {
   "display_name": "venv",
   "language": "python",
   "name": "python3"
  },
  "language_info": {
   "codemirror_mode": {
    "name": "ipython",
    "version": 3
   },
   "file_extension": ".py",
   "mimetype": "text/x-python",
   "name": "python",
   "nbconvert_exporter": "python",
   "pygments_lexer": "ipython3",
   "version": "3.12.2"
  }
 },
 "nbformat": 4,
 "nbformat_minor": 2
}
