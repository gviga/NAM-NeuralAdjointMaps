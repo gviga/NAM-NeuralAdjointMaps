{
 "cells": [
  {
   "cell_type": "markdown",
   "metadata": {},
   "source": [
    "# This is an example notebook on how to use NAM for shape matching\n",
    "In this notebook we consider different refinement with the spectral embeddings\n"
   ]
  },
  {
   "cell_type": "code",
   "execution_count": null,
   "metadata": {},
   "outputs": [],
   "source": [
    "from geomfum.shape.mesh import TriangleMesh\n",
    "import torch\n",
    "import numpy as np\n",
    "\n",
    "import matplotlib.pyplot as plt\n",
    "import sys\n",
    "import os\n",
    "\n",
    "# Add the parent directory to sys.path\n",
    "sys.path.append(os.path.abspath(os.path.join(os.getcwd(), \"..\")))\n",
    "\n",
    "from model.neural_adjoint_map import NeuralAdjointMap\n",
    "from sklearn.neighbors import NearestNeighbors\n"
   ]
  },
  {
   "cell_type": "code",
   "execution_count": null,
   "metadata": {},
   "outputs": [],
   "source": [
    "import os\n",
    "from urllib.request import urlretrieve\n",
    "\n",
    "faust_url = \"https://raw.githubusercontent.com/JM-data/PyFuncMap/4bde4484c3e93bff925a6a82da29fa79d6862f4b/FAUST_shapes_off/\"\n",
    "shape_files = [\"tr_reg_080.off\", \"tr_reg_093.off\"]\n",
    "for fname in shape_files:\n",
    "    url = faust_url + fname\n",
    "    out_path = os.path.join(\"../data\", fname)\n",
    "    urlretrieve(url, out_path)\n"
   ]
  },
  {
   "cell_type": "code",
   "execution_count": null,
   "metadata": {},
   "outputs": [],
   "source": [
    "mesh1 = TriangleMesh.from_file(\"../data/tr_reg_080.off\")\n",
    "mesh2 = TriangleMesh.from_file(\"../data/tr_reg_093.off\")\n",
    "\n",
    "eigvals1, eigvecs1 = mesh1.laplacian.find_spectrum(spectrum_size=30)\n",
    "eigvals2, eigvecs2 = mesh2.laplacian.find_spectrum(spectrum_size=30)"
   ]
  },
  {
   "cell_type": "code",
   "execution_count": null,
   "metadata": {},
   "outputs": [],
   "source": [
    "p2p_gt = np.arange(mesh1.n_vertices)"
   ]
  },
  {
   "cell_type": "markdown",
   "metadata": {},
   "source": [
    "# Functional Maps"
   ]
  },
  {
   "cell_type": "code",
   "execution_count": null,
   "metadata": {},
   "outputs": [],
   "source": [
    "C21 = np.linalg.pinv(eigvecs1) @ eigvecs2[p2p_gt]\n",
    "\n",
    "A12 = C21.T"
   ]
  },
  {
   "cell_type": "code",
   "execution_count": null,
   "metadata": {},
   "outputs": [],
   "source": [
    "plt.imshow(A12)"
   ]
  },
  {
   "cell_type": "code",
   "execution_count": null,
   "metadata": {},
   "outputs": [],
   "source": [
    "# Fit KNN on eigvecs2\n",
    "knn = NearestNeighbors(n_neighbors=1, algorithm=\"auto\").fit(eigvecs1)\n",
    "distances, indices = knn.kneighbors(eigvecs2 @ A12)\n",
    "\n",
    "p2p = indices.flatten()"
   ]
  },
  {
   "cell_type": "code",
   "execution_count": null,
   "metadata": {},
   "outputs": [],
   "source": [
    "p2p"
   ]
  },
  {
   "cell_type": "code",
   "execution_count": null,
   "metadata": {},
   "outputs": [],
   "source": [
    "print(\"Conversion Error:\", np.mean((mesh2.vertices[p2p] - mesh2.vertices) ** 2))"
   ]
  },
  {
   "cell_type": "markdown",
   "metadata": {},
   "source": [
    "# Neural Adjoint Map"
   ]
  },
  {
   "cell_type": "code",
   "execution_count": null,
   "metadata": {},
   "outputs": [],
   "source": [
    "emb1 = torch.tensor(eigvecs1).to(torch.float32).cuda()\n",
    "emb2 = torch.tensor(eigvecs2).to(torch.float32).cuda()\n",
    "\n",
    "nam = NeuralAdjointMap(emb1, emb2)\n",
    "\n",
    "nam.optimize_from_p2p(p2p_gt)\n",
    "\n",
    "emb2_nn = nam(emb2)"
   ]
  },
  {
   "cell_type": "code",
   "execution_count": null,
   "metadata": {},
   "outputs": [],
   "source": [
    "emb2_nn = nam(emb2)\n",
    "knn = NearestNeighbors(n_neighbors=1, algorithm=\"auto\").fit(eigvecs1)\n",
    "distances, indices = knn.kneighbors(emb2_nn.detach().cpu().numpy())\n",
    "\n",
    "p2p = indices.flatten()\n"
   ]
  },
  {
   "cell_type": "code",
   "execution_count": null,
   "metadata": {},
   "outputs": [],
   "source": [
    "p2p"
   ]
  },
  {
   "cell_type": "code",
   "execution_count": null,
   "metadata": {},
   "outputs": [],
   "source": [
    "print(\"Conversion Error:\", np.mean((mesh2.vertices[p2p] - mesh2.vertices) ** 2))"
   ]
  }
 ],
 "metadata": {
  "kernelspec": {
   "display_name": "venv",
   "language": "python",
   "name": "python3"
  },
  "language_info": {
   "codemirror_mode": {
    "name": "ipython",
    "version": 3
   },
   "file_extension": ".py",
   "mimetype": "text/x-python",
   "name": "python",
   "nbconvert_exporter": "python",
   "pygments_lexer": "ipython3",
   "version": "3.12.3"
  }
 },
 "nbformat": 4,
 "nbformat_minor": 2
}
