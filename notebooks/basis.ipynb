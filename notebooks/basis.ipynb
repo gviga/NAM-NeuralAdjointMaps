{
 "cells": [
  {
   "cell_type": "code",
   "execution_count": 1,
   "metadata": {},
   "outputs": [],
   "source": [
    "# import libraries\n",
    "import sys \n",
    "sys.path.append('..')\n",
    "from model.neural_adjoint_map import *\n",
    "from model.optimizer import *\n",
    "from methods.linear_ref import *\n",
    "from methods.nam_ref import *\n",
    "import matplotlib.pyplot as plt\n"
   ]
  },
  {
   "cell_type": "code",
   "execution_count": 2,
   "metadata": {},
   "outputs": [],
   "source": [
    "#load data\n",
    "import yaml\n",
    "import sys\n",
    "sys.path.append('./../../NRP/Unsupervised-Learning-of-Robust-Spectral-Shape-Matching/')\n",
    "import logging\n",
    "from os import path as osp\n",
    "\n",
    "from datasets import build_dataset\n",
    "from models import build_model\n",
    "\n",
    "import yaml\n",
    "from utils.tensor_util import to_device,to_numpy\n",
    "import torch\n",
    "import numpy as np\n",
    "\n",
    "#torch.cuda.set_device(0)\n",
    "\n",
    "#pointcloud\n",
    "\n",
    "DATASET='dt4d_interclass'\n",
    "\n",
    "with open('./../../NRP/Unsupervised-Learning-of-Robust-Spectral-Shape-Matching/options/test/'+DATASET+'.yaml', 'r') as f:\n",
    "    opt = yaml.load(f, Loader=yaml.SafeLoader)\n",
    "opt['is_train']=False\n",
    "test_set = build_dataset(opt['datasets']['test_dataset'])\n",
    "\n",
    "shape1=test_set[3]['first']\n",
    "shape2=test_set[3]['second']\n",
    "mass1=torch.diag(shape1['mass'])\n",
    "mass2=torch.diag(shape1['mass'])"
   ]
  },
  {
   "cell_type": "markdown",
   "metadata": {},
   "source": [
    "# LB eigenfunctions"
   ]
  },
  {
   "cell_type": "code",
   "execution_count": 3,
   "metadata": {},
   "outputs": [
    {
     "data": {
      "image/png": "[encoded data removed]",
      "text/plain": [
       "<Figure size 640x480 with 1 Axes>"
      ]
     },
     "metadata": {},
     "output_type": "display_data"
    },
    {
     "data": {
      "text/plain": [
       "<matplotlib.image.AxesImage at 0x7c1b0ef9c980>"
      ]
     },
     "execution_count": 3,
     "metadata": {},
     "output_type": "execute_result"
    },
    {
     "data": {
      "image/png": "[encoded data removed]",
      "text/plain": [
       "<Figure size 640x480 with 1 Axes>"
      ]
     },
     "metadata": {},
     "output_type": "display_data"
    }
   ],
   "source": [
    "#lbo basis\n",
    "basis1=shape1['evecs']\n",
    "basis2=shape2['evecs']\n",
    "\n",
    "mass1_sp=basis1.T@mass1@basis1\n",
    "plt.imshow(mass1_sp[:20,:20])\n",
    "plt.show()\n",
    "fmap=torch.linalg.pinv(basis1[shape1['corr']][:,:20])@basis2[shape2['corr'],:20]\n",
    "plt.imshow(fmap)"
   ]
  },
  {
   "cell_type": "code",
   "execution_count": 4,
   "metadata": {},
   "outputs": [
    {
     "name": "stdout",
     "output_type": "stream",
     "text": [
      "torch.float32\n",
      "torch.float32\n",
      "torch.float32\n",
      "torch.float32\n",
      "torch.float32\n",
      "torch.float32\n",
      "torch.float32\n",
      "torch.float32\n",
      "torch.float32\n",
      "torch.float32\n",
      "1\n",
      "torch.float32\n",
      "torch.float32\n",
      "torch.float32\n",
      "torch.float32\n",
      "torch.float32\n",
      "torch.float32\n",
      "torch.float32\n",
      "torch.float32\n",
      "torch.float32\n",
      "torch.float32\n",
      "2\n",
      "torch.float32\n",
      "torch.float32\n",
      "torch.float32\n",
      "torch.float32\n",
      "torch.float32\n",
      "torch.float32\n",
      "torch.float32\n",
      "torch.float32\n",
      "torch.float32\n",
      "torch.float32\n",
      "3\n",
      "torch.float32\n",
      "torch.float32\n",
      "torch.float32\n",
      "torch.complex64\n"
     ]
    },
    {
     "ename": "RuntimeError",
     "evalue": "expected mat1 and mat2 to have the same dtype, but got: float != c10::complex<float>",
     "output_type": "error",
     "traceback": [
      "\u001b[0;31m---------------------------------------------------------------------------\u001b[0m",
      "\u001b[0;31mRuntimeError\u001b[0m                              Traceback (most recent call last)",
      "Cell \u001b[0;32mIn[4], line 51\u001b[0m\n\u001b[1;32m     49\u001b[0m p2p\u001b[38;5;241m=\u001b[39mzoomout(data_x[\u001b[38;5;124m'\u001b[39m\u001b[38;5;124mevecs\u001b[39m\u001b[38;5;124m'\u001b[39m],data_y[\u001b[38;5;124m'\u001b[39m\u001b[38;5;124mevecs\u001b[39m\u001b[38;5;124m'\u001b[39m],p2p_ini,\u001b[38;5;241m20\u001b[39m,\u001b[38;5;241m201\u001b[39m,\u001b[38;5;241m20\u001b[39m)\u001b[38;5;241m.\u001b[39mcpu()\n\u001b[1;32m     50\u001b[0m zo_l\u001b[38;5;241m.\u001b[39mappend(model\u001b[38;5;241m.\u001b[39mmetrics[\u001b[38;5;124m'\u001b[39m\u001b[38;5;124mgeo_error\u001b[39m\u001b[38;5;124m'\u001b[39m](dist_y, corr_y, corr_x, p2p, return_mean\u001b[38;5;241m=\u001b[39m\u001b[38;5;28;01mFalse\u001b[39;00m)\u001b[38;5;241m.\u001b[39mmean()\u001b[38;5;241m.\u001b[39mitem())\n\u001b[0;32m---> 51\u001b[0m p2p\u001b[38;5;241m=\u001b[39m\u001b[43mzoomout_mass\u001b[49m\u001b[43m(\u001b[49m\u001b[43mdata_x\u001b[49m\u001b[43m[\u001b[49m\u001b[38;5;124;43m'\u001b[39;49m\u001b[38;5;124;43mevecs\u001b[39;49m\u001b[38;5;124;43m'\u001b[39;49m\u001b[43m]\u001b[49m\u001b[43m,\u001b[49m\u001b[43mdata_y\u001b[49m\u001b[43m[\u001b[49m\u001b[38;5;124;43m'\u001b[39;49m\u001b[38;5;124;43mevecs\u001b[39;49m\u001b[38;5;124;43m'\u001b[39;49m\u001b[43m]\u001b[49m\u001b[43m,\u001b[49m\u001b[43mp2p_ini\u001b[49m\u001b[43m,\u001b[49m\u001b[38;5;241;43m20\u001b[39;49m\u001b[43m,\u001b[49m\u001b[38;5;241;43m201\u001b[39;49m\u001b[43m,\u001b[49m\u001b[38;5;241;43m20\u001b[39;49m\u001b[43m,\u001b[49m\u001b[43mmass1_sp\u001b[49m\u001b[43m,\u001b[49m\u001b[43mmass2_sp\u001b[49m\u001b[43m)\u001b[49m\u001b[38;5;241m.\u001b[39mcpu()\n\u001b[1;32m     52\u001b[0m mzo_l\u001b[38;5;241m.\u001b[39mappend(model\u001b[38;5;241m.\u001b[39mmetrics[\u001b[38;5;124m'\u001b[39m\u001b[38;5;124mgeo_error\u001b[39m\u001b[38;5;124m'\u001b[39m](dist_y, corr_y, corr_x, p2p, return_mean\u001b[38;5;241m=\u001b[39m\u001b[38;5;28;01mFalse\u001b[39;00m)\u001b[38;5;241m.\u001b[39mmean()\u001b[38;5;241m.\u001b[39mitem())\n\u001b[1;32m     54\u001b[0m p2p\u001b[38;5;241m=\u001b[39mab_zoomout(data_x[\u001b[38;5;124m'\u001b[39m\u001b[38;5;124mevecs\u001b[39m\u001b[38;5;124m'\u001b[39m],data_y[\u001b[38;5;124m'\u001b[39m\u001b[38;5;124mevecs\u001b[39m\u001b[38;5;124m'\u001b[39m],p2p_ini,\u001b[38;5;241m20\u001b[39m,\u001b[38;5;241m201\u001b[39m,\u001b[38;5;241m20\u001b[39m)\u001b[38;5;241m.\u001b[39mcpu()\n",
      "File \u001b[0;32m~/NAM-NeuralAdjointMaps/notebooks/../methods/linear_ref.py:114\u001b[0m, in \u001b[0;36mzoomout_mass\u001b[0;34m(evecs1, evecs2, p2p, k_ini, k_end, step, mass_sp1, mass_sp2)\u001b[0m\n\u001b[1;32m    112\u001b[0m     mass_inv_sqrt\u001b[38;5;241m=\u001b[39mtorch\u001b[38;5;241m.\u001b[39mtensor(scipy\u001b[38;5;241m.\u001b[39mlinalg\u001b[38;5;241m.\u001b[39msqrtm(torch\u001b[38;5;241m.\u001b[39mlinalg\u001b[38;5;241m.\u001b[39minv((mass_x))\u001b[38;5;241m.\u001b[39mcpu()\u001b[38;5;241m.\u001b[39mnumpy()))\u001b[38;5;241m.\u001b[39mto(evecs1\u001b[38;5;241m.\u001b[39mdevice)\n\u001b[1;32m    113\u001b[0m     \u001b[38;5;28mprint\u001b[39m(mass_inv_sqrt\u001b[38;5;241m.\u001b[39mdtype)\n\u001b[0;32m--> 114\u001b[0m     p2p_zo\u001b[38;5;241m=\u001b[39mnearest(\u001b[43mevec1\u001b[49m\u001b[38;5;129;43m@mass_inv_sqrt\u001b[39;49m,evec2\u001b[38;5;129m@A\u001b[39m\u001b[38;5;129m@mass_inv_sqrt\u001b[39m)\n\u001b[1;32m    116\u001b[0m \u001b[38;5;28;01mreturn\u001b[39;00m p2p_zo\n",
      "\u001b[0;31mRuntimeError\u001b[0m: expected mat1 and mat2 to have the same dtype, but got: float != c10::complex<float>"
     ]
    }
   ],
   "source": [
    "\n",
    "test_set = build_dataset(opt['datasets']['test_dataset'])\n",
    "opt['is_train'] = False\n",
    "model = build_model(opt)\n",
    "model.eval()\n",
    "\n",
    "device = torch.device('cuda' if torch.cuda.is_available() else 'cpu')\n",
    "\n",
    "# Initialize variables\n",
    "n_exp = 5\n",
    "n_k = len(range(20, 201, 20)) + 1\n",
    "mse_nzo = np.zeros((n_exp, n_k))\n",
    "g_nzo = np.zeros((n_exp, n_k))\n",
    "\n",
    "#ind=np.random.randint(0,len(test_set),n_exp)\n",
    "ind=np.arange(n_exp)\n",
    "\n",
    "results = {}\n",
    "\n",
    "zo_l = []\n",
    "abzo_l =[]\n",
    "\n",
    "mzo_l = []\n",
    "mabzo_l = []\n",
    "\n",
    "nzo_l=[]\n",
    "mnzo_l=[]\n",
    "\n",
    "\n",
    "import h5py\n",
    "\n",
    "for i in ind:\n",
    "    data_x, data_y = to_device(test_set[i]['second'], device), to_device(test_set[i]['first'], device)\n",
    "    if data_x['name'] != data_y['name']:\n",
    "        dist_y = data_y['dist'].cpu()\n",
    "        corr_x = data_x['corr']\n",
    "        corr_y = data_y['corr']\n",
    "        dist_y = to_numpy(dist_y)\n",
    "        corr_x = to_numpy(corr_x)\n",
    "        corr_y = to_numpy(corr_y)\n",
    "        #C = torch.linalg.pinv(data_y['evecs'][corr_y, :20]) @ data_x['evecs'][corr_x, :20]\n",
    "        #p2p_ini = nearest(data_x['evecs'][:, :20], data_y['evecs'][:, :20] @ C).cpu().numpy()\n",
    "        with h5py.File('/home/ubuntu/NRP//NRP/nfr/results/mesh/'+DATASET+'/results.h5', 'r+') as hf:\n",
    "            p2p_ini=hf[f'unsup_noref_{i}'][:]\n",
    "        mass1=torch.diag(data_x['mass'])\n",
    "        mass1_sp=data_x['evecs'].T@mass1@data_x['evecs']\n",
    "        mass2=torch.diag(data_y['mass'])\n",
    "        mass2_sp=data_y['evecs'].T@mass2@data_y['evecs']\n",
    "\n",
    "        p2p=zoomout(data_x['evecs'],data_y['evecs'],p2p_ini,20,201,20).cpu()\n",
    "        zo_l.append(model.metrics['geo_error'](dist_y, corr_y, corr_x, p2p, return_mean=False).mean().item())\n",
    "        p2p=zoomout_mass(data_x['evecs'],data_y['evecs'],p2p_ini,20,201,20,mass1_sp,mass2_sp).cpu()\n",
    "        mzo_l.append(model.metrics['geo_error'](dist_y, corr_y, corr_x, p2p, return_mean=False).mean().item())\n",
    "        \n",
    "        p2p=ab_zoomout(data_x['evecs'],data_y['evecs'],p2p_ini,20,201,20).cpu()\n",
    "        abzo_l.append(model.metrics['geo_error'](dist_y, corr_y, corr_x, p2p, return_mean=False).mean().item())\n",
    "        p2p=abzo_mass(data_x['evecs'],data_y['evecs'],p2p_ini,20,201,20,mass1_sp,mass2_sp).cpu()\n",
    "        mabzo_l.append(model.metrics['geo_error'](dist_y, corr_y, corr_x, p2p, return_mean=False).mean().item())\n",
    "\n",
    "        p2p=neural_zoomout(data_x['evecs'],data_y['evecs'],p2p_ini,20,201,20).cpu()\n",
    "        nzo_l.append(model.metrics['geo_error'](dist_y, corr_y, corr_x, p2p, return_mean=False).mean().item())\n",
    "        p2p=neural_zoomout_mass(data_x['evecs'],data_y['evecs'],p2p_ini,20,201,20,mass1_sp,mass2_sp).cpu()\n",
    "        mnzo_l.append(model.metrics['geo_error'](dist_y, corr_y, corr_x, p2p, return_mean=False).mean().item())\n",
    "\n",
    "\n",
    "    i=i+1\n",
    "    print(i)\n",
    "print('zo:',np.mean(zo_l))\n",
    "print('zo mass:',np.mean(mzo_l))\n",
    "\n",
    "print('abzo:',np.mean(abzo_l))\n",
    "print('abzo mass:',np.mean(mabzo_l))\n",
    "\n",
    "print('nzo:',np.mean(nzo_l))\n",
    "print('nzo mass:',np.mean(mnzo_l))\n",
    "\n"
   ]
  },
  {
   "cell_type": "code",
   "execution_count": 7,
   "metadata": {},
   "outputs": [
    {
     "name": "stdout",
     "output_type": "stream",
     "text": [
      "tensor([[ 1.0000e+00+0.0000e+00j,  2.5486e-08-1.7596e-17j,\n",
      "          2.1993e-08-2.2254e-18j,  ...,\n",
      "          1.7377e-09-2.3040e-17j, -2.7052e-09+6.8716e-18j,\n",
      "          5.3792e-09-1.0507e-18j],\n",
      "        [ 3.3643e-08+0.0000e+00j,  1.0000e+00-3.3996e-10j,\n",
      "          5.9881e-08-2.1822e-11j,  ...,\n",
      "         -5.4808e-08-3.4982e-10j, -3.6975e-08+1.8218e-10j,\n",
      "         -3.6575e-08-4.9958e-11j],\n",
      "        [ 1.1539e-08+0.0000e+00j,  6.6179e-08-1.9914e-10j,\n",
      "          1.0000e+00-2.0437e-11j,  ...,\n",
      "          2.6550e-08-3.3495e-10j,  5.3872e-08+9.0777e-11j,\n",
      "          4.6862e-08-2.2795e-11j],\n",
      "        ...,\n",
      "        [-4.1694e-10+0.0000e+00j, -3.5541e-08-6.5573e-10j,\n",
      "          3.9886e-08+3.1590e-11j,  ...,\n",
      "          1.0000e+00-7.3469e-10j, -2.1926e-08+2.8387e-10j,\n",
      "          1.2447e-08-6.3390e-11j],\n",
      "        [-3.9410e-09+0.0000e+00j, -3.0706e-08+1.7632e-10j,\n",
      "          3.9847e-08+9.1113e-12j,  ...,\n",
      "         -2.8373e-08+2.3375e-10j,  1.0000e+00-9.0051e-11j,\n",
      "          5.2697e-08+2.5039e-11j],\n",
      "        [ 1.9521e-09+0.0000e+00j, -2.5041e-08-3.9163e-11j,\n",
      "          4.9921e-08+1.9439e-12j,  ...,\n",
      "         -1.7325e-08-6.2272e-11j,  6.5973e-08+1.7595e-11j,\n",
      "          1.0000e+00-4.7773e-12j]], device='cuda:0')\n"
     ]
    }
   ],
   "source": [
    "mass_inv_sqrt=torch.tensor(scipy.linalg.sqrtm(torch.linalg.inv((mass1_sp[:80,:80])).cpu().numpy())).to('cuda')\n",
    "print(mass_inv_sqrt)"
   ]
  },
  {
   "cell_type": "code",
   "execution_count": null,
   "metadata": {},
   "outputs": [
    {
     "name": "stdout",
     "output_type": "stream",
     "text": [
      "torch.float32\n",
      "torch.float32\n"
     ]
    }
   ],
   "source": [
    "print(mass1_sp[,:200].dtype)\n",
    "mass_inv_sqrt=torch.tensor(scipy.linalg.sqrtm(torch.linalg.inv((mass1_sp[:20,:20])).cpu().numpy()))\n",
    "print(mass_inv_sqrt.dtype)\n"
   ]
  },
  {
   "cell_type": "markdown",
   "metadata": {},
   "source": [
    "# Elastic basis"
   ]
  },
  {
   "cell_type": "code",
   "execution_count": 38,
   "metadata": {},
   "outputs": [
    {
     "name": "stdout",
     "output_type": "stream",
     "text": [
      "1\n",
      "2\n",
      "3\n",
      "4\n",
      "5\n",
      "zo: 0.09963404685258866\n",
      "zo mass: 0.07170272246003151\n",
      "abzo: 0.10253393352031707\n",
      "abzo mass: 0.08925248682498932\n",
      "nzo: 0.04714714288711548\n",
      "nzo mass: 0.045884739607572556\n"
     ]
    }
   ],
   "source": [
    "\n",
    "test_set = build_dataset(opt['datasets']['test_dataset'])\n",
    "opt['is_train'] = False\n",
    "model = build_model(opt)\n",
    "model.eval()\n",
    "\n",
    "device = torch.device('cuda' if torch.cuda.is_available() else 'cpu')\n",
    "\n",
    "# Initialize variables\n",
    "n_exp = 5\n",
    "n_k = len(range(20, 201, 20)) + 1\n",
    "mse_nzo = np.zeros((n_exp, n_k))\n",
    "g_nzo = np.zeros((n_exp, n_k))\n",
    "\n",
    "#ind=np.random.randint(0,len(test_set),n_exp)\n",
    "ind=np.arange(n_exp)\n",
    "\n",
    "results = {}\n",
    "\n",
    "zo_l = []\n",
    "abzo_l =[]\n",
    "ima_l = []\n",
    "fsf_l = []\n",
    "nzo_l=[]\n",
    "mnzo_l=[]\n",
    "mzo_l = []\n",
    "mima_l = []\n",
    "mfsf_l = []\n",
    "mabzo_l = []\n",
    "\n",
    "import h5py\n",
    "\n",
    "for i in ind:\n",
    "    data_x, data_y = to_device(test_set[i]['second'], device), to_device(test_set[i]['first'], device)\n",
    "    if data_x['name'] != data_y['name']:\n",
    "        dist_y = data_y['dist'].cpu()\n",
    "        corr_x = data_x['corr']\n",
    "        corr_y = data_y['corr']\n",
    "        dist_y = to_numpy(dist_y)\n",
    "        corr_x = to_numpy(corr_x)\n",
    "        corr_y = to_numpy(corr_y)\n",
    "        #C = torch.linalg.pinv(data_y['evecs'][corr_y, :20]) @ data_x['evecs'][corr_x, :20]\n",
    "        #p2p_ini = nearest(data_x['evecs'][:, :20], data_y['evecs'][:, :20] @ C).cpu().numpy()\n",
    "        with h5py.File('/home/ubuntu/NRP//NRP/nfr/results/mesh/'+DATASET+'/results.h5', 'r+') as hf:\n",
    "            p2p_ini=hf[f'unsup_noref_{i}'][:]\n",
    "        with h5py.File('/home/ubuntu/NRP/ElasticBasisForSpectralMatching/basis/'+DATASET+'/'+data_x['name']+'.h5', 'r') as f:\n",
    "            data_x['elastic']=torch.tensor(np.array(f['elastic']))[:,:200].to(device)\n",
    "        with h5py.File('/home/ubuntu/NRP/ElasticBasisForSpectralMatching/basis/'+DATASET+'/'+data_y['name']+'.h5', 'r') as f:\n",
    "            data_y['elastic']=torch.tensor(np.array(f['elastic']))[:,:200].to(device)\n",
    "        mass1=torch.diag(data_x['mass'])\n",
    "        mass1_sp=data_x['elastic'].T@mass1@data_x['elastic']\n",
    "        \n",
    "        mass2=torch.diag(data_y['mass'])\n",
    "        mass2_sp=data_y['elastic'].T@mass2@data_y['elastic']\n",
    "\n",
    "        \n",
    "        p2p=abzo(data_x['elastic'],data_y['elastic'],p2p_ini,20,201,20).cpu()\n",
    "        abzo_l.append(model.metrics['geo_error'](dist_y, corr_y, corr_x, p2p, return_mean=False).mean().item())\n",
    "        p2p=abzo_mass(data_x['elastic'],data_y['elastic'],p2p_ini,20,201,20,mass1_sp,mass2_sp).cpu()\n",
    "        mabzo_l.append(model.metrics['geo_error'](dist_y, corr_y, corr_x, p2p, return_mean=False).mean().item())\n",
    "        \n",
    "\n",
    "\n",
    "        p2p=zoomout(data_x['elastic'],data_y['elastic'],p2p_ini,20,201,20).cpu()\n",
    "        zo_l.append(model.metrics['geo_error'](dist_y, corr_y, corr_x, p2p, return_mean=False).mean().item())\n",
    "        p2p=zoomout_mass(data_x['elastic'],data_y['elastic'],p2p_ini,20,201,20,mass1_sp,mass2_sp).cpu()\n",
    "        mzo_l.append(model.metrics['geo_error'](dist_y, corr_y, corr_x, p2p, return_mean=False).mean().item())\n",
    "        \n",
    "        p2p=neural_zoomout(data_x['elastic'],data_y['elastic'],p2p_ini,20,201,20).cpu()\n",
    "        nzo_l.append(model.metrics['geo_error'](dist_y, corr_y, corr_x, p2p, return_mean=False).mean().item())\n",
    "        p2p=neural_zoomout_mass(data_x['elastic'],data_y['elastic'],p2p_ini,20,201,20,mass1_sp,mass2_sp).cpu()\n",
    "        mnzo_l.append(model.metrics['geo_error'](dist_y, corr_y, corr_x, p2p, return_mean=False).mean().item())\n",
    "\n",
    "\n",
    "    i=i+1\n",
    "    print(i)\n",
    "print('zo:',np.mean(zo_l))\n",
    "print('zo mass:',np.mean(mzo_l))\n",
    "\n",
    "print('abzo:',np.mean(abzo_l))\n",
    "print('abzo mass:',np.mean(mabzo_l))\n",
    "\n",
    "print('nzo:',np.mean(nzo_l))\n",
    "print('nzo mass:',np.mean(mnzo_l))\n",
    "\n"
   ]
  }
 ],
 "metadata": {
  "kernelspec": {
   "display_name": "venv",
   "language": "python",
   "name": "python3"
  },
  "language_info": {
   "codemirror_mode": {
    "name": "ipython",
    "version": 3
   },
   "file_extension": ".py",
   "mimetype": "text/x-python",
   "name": "python",
   "nbconvert_exporter": "python",
   "pygments_lexer": "ipython3",
   "version": "3.12.3"
  }
 },
 "nbformat": 4,
 "nbformat_minor": 2
}
